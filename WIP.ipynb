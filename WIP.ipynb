{
 "cells": [
  {
   "cell_type": "code",
   "execution_count": 172,
   "metadata": {},
   "outputs": [],
   "source": [
    "import pyshtools as pysh\n",
    "import numpy as np\n",
    "from numpy import pi as pi\n",
    "\n",
    "import RFmod as RF\n",
    "import SLmod as SL\n",
    "import xarray as xr"
   ]
  },
  {
   "cell_type": "code",
   "execution_count": 150,
   "metadata": {},
   "outputs": [],
   "source": [
    "## Preliminaries\n",
    "\n",
    "L = 63\n",
    "lmax=10\n",
    "Q = RF.sobolev_covariance(L, s=2, mu=0.2)\n",
    "rhow = SL.rhow\n",
    "\n",
    "# read in the present day sea level and ice thickness\n",
    "sl0,ice0 = SL.get_sl_ice_data(L)\n",
    "C = SL.ocean_function(sl0,ice0)"
   ]
  },
  {
   "cell_type": "code",
   "execution_count": 152,
   "metadata": {},
   "outputs": [],
   "source": [
    "## For the input to our function, we would like a vector formed by reshaping a gridded direct load, zeta\n",
    "\n",
    "zeta_glq = -rhow*RF.random_field(Q)\n",
    "zeta_gr = -rhow*RF.random_field(Q).to_array()\n",
    "zeta = zeta_gr.reshape(-1)"
   ]
  },
  {
   "cell_type": "code",
   "execution_count": 147,
   "metadata": {},
   "outputs": [],
   "source": [
    "## Version of the function which just uses a normal GLQRealGrid as input\n",
    "\n",
    "def potential0(zeta_glq, L, lmax=10):\n",
    "\n",
    "    ## Solve the sea level equation\n",
    "    _,_,solution,_,_ = SL.fingerprint(C, zeta_glq)\n",
    "\n",
    "    ## Expand the solution in spherical harmonics. Clm = solution[0,l,m] and Slm = solution[1,l,m]\n",
    "    coeffs = pysh.expand.SHExpandGLQ(solution.to_array(),lmax_calc=lmax)\n",
    "\n",
    "    ## Populate a vector (1-D np array) with the expanded coefficients, in ascending order of l (2<=l<=lmax), doing Clm in reverse order then Slm in standard order for each l\n",
    "    coeffs_vec = np.zeros(((lmax+1)**2)-4)\n",
    "    \n",
    "    for l in range(2,lmax+1):\n",
    "        coeffs_vec[((l)**2)-4:((l+1)**2)-4] = np.concatenate((coeffs[0,l,0:l+1][::-1],coeffs[1,l,1:l+1]))\n",
    "    \n",
    "    return coeffs_vec"
   ]
  },
  {
   "cell_type": "code",
   "execution_count": 162,
   "metadata": {},
   "outputs": [],
   "source": [
    "## Full version of the function\n",
    "\n",
    "def potential(zeta, L, lmax=10):\n",
    "\n",
    "    ## Convert zeta to a GLQGrid\n",
    "    zeta_glq = pysh.SHGrid.from_array(zeta.reshape(L+1,2*(L+1)),grid='GLQ')\n",
    "\n",
    "    ## Solve the sea level equation\n",
    "    _,_,solution,_,_ = SL.fingerprint(C, zeta_glq)\n",
    "\n",
    "    ## Expand the solution in spherical harmonics. Clm = solution[0,l,m] and Slm = solution[1,l,m]\n",
    "    coeffs = pysh.expand.SHExpandGLQ(solution.to_array(),lmax_calc=lmax)\n",
    "\n",
    "    ## Populate a vector (1-D np array) with the expanded coefficients, in ascending order of l (2<=l<=lmax), doing Clm in reverse order then Slm in standard order for each l\n",
    "    coeffs_vec = np.zeros(((lmax+1)**2)-4)\n",
    "    \n",
    "    for l in range(2,lmax+1):\n",
    "        coeffs_vec[((l)**2)-4:((l+1)**2)-4] = np.concatenate((coeffs[0,l,0:l+1][::-1],coeffs[1,l,1:l+1]))\n",
    "    \n",
    "    return coeffs_vec\n"
   ]
  },
  {
   "cell_type": "code",
   "execution_count": 170,
   "metadata": {},
   "outputs": [],
   "source": [
    "## Vague attempt at a class\n",
    "\n",
    "import os\n",
    "import sys\n",
    "\n",
    "class PotentialSolver:\n",
    "    def __init__(self, L, lmax=10):\n",
    "        self.L = L\n",
    "        self.lmax = lmax\n",
    "\n",
    "    def A(self, zeta, suppress_output=True):\n",
    "        zeta_glq = pysh.SHGrid.from_array(zeta.reshape(self.L+1,2*(self.L+1)),grid='GLQ')\n",
    "\n",
    "        # Suppress output if requested\n",
    "        if suppress_output:\n",
    "            original_stdout = sys.stdout  # Save a reference to the original standard output\n",
    "            sys.stdout = open(os.devnull, 'w')\n",
    "\n",
    "        _,_,solution,_,_ = SL.fingerprint(C, zeta_glq)\n",
    "\n",
    "        # Restore standard output if it was suppressed\n",
    "        if suppress_output:\n",
    "            sys.stdout.close()\n",
    "            sys.stdout = original_stdout\n",
    "\n",
    "        coeffs = pysh.expand.SHExpandGLQ(solution.to_array(),lmax_calc=self.lmax)\n",
    "        coeffs_vec = np.zeros(((self.lmax+1)**2)-4)\n",
    "    \n",
    "        for l in range(2,self.lmax+1):\n",
    "            coeffs_vec[((l)**2)-4:((l+1)**2)-4] = np.concatenate((coeffs[0,l,0:l+1][::-1],coeffs[1,l,1:l+1]))\n",
    "        \n",
    "        return coeffs_vec"
   ]
  },
  {
   "cell_type": "code",
   "execution_count": 173,
   "metadata": {},
   "outputs": [
    {
     "data": {
      "text/plain": [
       "array([ 0.19456119, -0.06530445, -0.0524054 ,  0.0937309 ,  0.1513918 ,\n",
       "       -0.05741823, -0.02622757,  0.10938095, -0.08580362, -0.02373222,\n",
       "        0.16795801, -0.20035653, -0.01065972, -0.04445102, -0.02883192,\n",
       "       -0.06176121, -0.02891048,  0.01480976,  0.07603586, -0.01299593,\n",
       "        0.0267921 , -0.01998635,  0.01231964,  0.02002232, -0.03838759,\n",
       "       -0.04724378, -0.00127344,  0.00426204, -0.01095402, -0.01002708,\n",
       "       -0.03123467,  0.08220392,  0.0046136 , -0.01907973,  0.00422204,\n",
       "        0.02738494, -0.04034152, -0.04091192,  0.02084734,  0.03872135,\n",
       "        0.00384089,  0.00542826,  0.00126144, -0.00164106, -0.02799588,\n",
       "       -0.01904044, -0.00530083, -0.01061337,  0.02242847,  0.063668  ,\n",
       "        0.01783849, -0.03498052, -0.01057171, -0.02159634,  0.01436461,\n",
       "       -0.00557634,  0.02235869,  0.02380941, -0.04353325, -0.00228823,\n",
       "       -0.03164915,  0.00997883,  0.00628253, -0.00632775, -0.01026039,\n",
       "       -0.01093916, -0.02205068,  0.00110483, -0.00060758,  0.01045645,\n",
       "       -0.01133515,  0.00706707,  0.00633204,  0.01360494,  0.0018824 ,\n",
       "       -0.01417976,  0.00661613,  0.02416711,  0.02518123,  0.02120804,\n",
       "       -0.01384468, -0.00129209,  0.00723582,  0.00342253, -0.00553569,\n",
       "        0.00034697, -0.01513328, -0.01420021,  0.00465388, -0.01147301,\n",
       "       -0.01441183,  0.00109442,  0.01583994,  0.026782  ,  0.00298219,\n",
       "        0.02559271, -0.01009913, -0.00904376, -0.00139475,  0.00234597,\n",
       "        0.00487932,  0.0023756 ,  0.01712682,  0.01986436,  0.00247955,\n",
       "        0.00119757,  0.01426033,  0.00184011,  0.00663265, -0.01510478,\n",
       "        0.00738706, -0.00244268, -0.01510886, -0.00521095, -0.00732638,\n",
       "        0.00172944,  0.00137594])"
      ]
     },
     "execution_count": 173,
     "metadata": {},
     "output_type": "execute_result"
    }
   ],
   "source": [
    "## Testing the class\n",
    "\n",
    "solve = PotentialSolver(L, lmax=10)\n",
    "solve.A(zeta)"
   ]
  }
 ],
 "metadata": {
  "kernelspec": {
   "display_name": "Python 3 (ipykernel)",
   "language": "python",
   "name": "python3"
  },
  "language_info": {
   "codemirror_mode": {
    "name": "ipython",
    "version": 3
   },
   "file_extension": ".py",
   "mimetype": "text/x-python",
   "name": "python",
   "nbconvert_exporter": "python",
   "pygments_lexer": "ipython3",
   "version": "3.11.6"
  }
 },
 "nbformat": 4,
 "nbformat_minor": 2
}
